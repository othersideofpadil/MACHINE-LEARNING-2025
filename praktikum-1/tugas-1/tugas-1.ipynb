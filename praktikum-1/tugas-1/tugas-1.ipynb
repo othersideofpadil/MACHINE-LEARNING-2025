{
 "cells": [
  {
   "cell_type": "code",
   "execution_count": 9,
   "id": "01b5d764",
   "metadata": {
    "scrolled": true
   },
   "outputs": [
    {
     "name": "stdout",
     "output_type": "stream",
     "text": [
      "   instant      dteday  season  temp   hum  windspeed\n",
      "0        1  2011-01-01       1  0.24  0.81        0.0\n",
      "1        2  2011-01-01       1  0.22  0.80        0.0\n",
      "2        3  2011-01-01       1  0.22  0.80        0.0\n",
      "3        4  2011-01-01       1  0.24  0.75        0.0\n",
      "4        5  2011-01-01       1  0.24  0.75        0.0\n"
     ]
    }
   ],
   "source": [
    "import pandas as pd\n",
    "\n",
    "#membaca data \n",
    "df1 = pd.read_csv('../Data/hour.csv')\n",
    "\n",
    "#memilih menampilkan data tertentu\n",
    "selected_cols = [\"instant\", \"dteday\", \"season\", \"temp\", \"hum\", \"windspeed\"]\n",
    "df1_selected = df1[selected_cols]\n",
    "\n",
    "#menampilkan hasil dengan mencetak 5 data teratas\n",
    "print(df1_selected.head())\n"
   ]
  },
  {
   "cell_type": "code",
   "execution_count": null,
   "id": "dd0ef220",
   "metadata": {},
   "outputs": [],
   "source": []
  }
 ],
 "metadata": {
  "kernelspec": {
   "display_name": "Python 3 (ipykernel)",
   "language": "python",
   "name": "python3"
  },
  "language_info": {
   "codemirror_mode": {
    "name": "ipython",
    "version": 3
   },
   "file_extension": ".py",
   "mimetype": "text/x-python",
   "name": "python",
   "nbconvert_exporter": "python",
   "pygments_lexer": "ipython3",
   "version": "3.11.5"
  }
 },
 "nbformat": 4,
 "nbformat_minor": 5
}
